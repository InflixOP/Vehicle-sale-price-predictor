{
 "cells": [
  {
   "cell_type": "markdown",
   "id": "810bc2b0-067a-414c-976c-89388a8715e6",
   "metadata": {},
   "source": [
    "# Predicting the sales price of bulldozers using machine learning\n",
    "In this notebook we're going through an example machine learning project with the goal of predicting the sale price of bulldozers.\n",
    "\n",
    "## 1. Problem Defination\n",
    "> How well can we predict thje future sale price of a bulldozer given its characteristics and previous  examples of houw much similar bulldowzers have been sold for...\n",
    "\n",
    "## 2. Data\n",
    "> https://www.kaggle.com/c/bluebook-for-bulldozers/data\n",
    "\n",
    "## 3. Evaluation\n",
    "\n",
    "The evaluation metric for this competition is the RMSLE (root mean squared log error) between the actual and predicted auction prices.\n",
    "\n",
    "## 4.Features\n",
    "\n",
    "Kaggle provides a data dictionary check it out\n",
    "> https://www.kaggle.com/c/bluebook-for-bulldozers/data\n"
   ]
  },
  {
   "cell_type": "code",
   "execution_count": 1,
   "id": "87404312-8d8f-4db0-abf3-32920cc9794c",
   "metadata": {},
   "outputs": [],
   "source": [
    "import numpy as np\n",
    "import pandas as pd\n",
    "import matplotlib.pyplot as plt\n",
    "import sklearn"
   ]
  },
  {
   "cell_type": "code",
   "execution_count": null,
   "id": "4dfd4174-cbcd-4966-863e-5a16e4dcf54b",
   "metadata": {},
   "outputs": [],
   "source": []
  }
 ],
 "metadata": {
  "kernelspec": {
   "display_name": "Python 3 (ipykernel)",
   "language": "python",
   "name": "python3"
  },
  "language_info": {
   "codemirror_mode": {
    "name": "ipython",
    "version": 3
   },
   "file_extension": ".py",
   "mimetype": "text/x-python",
   "name": "python",
   "nbconvert_exporter": "python",
   "pygments_lexer": "ipython3",
   "version": "3.10.13"
  }
 },
 "nbformat": 4,
 "nbformat_minor": 5
}
